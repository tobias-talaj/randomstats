{
 "cells": [
  {
   "cell_type": "code",
   "execution_count": 67,
   "metadata": {},
   "outputs": [],
   "source": [
    "from collections import Counter\n",
    "import string\n",
    "import re"
   ]
  },
  {
   "cell_type": "code",
   "execution_count": 2,
   "metadata": {},
   "outputs": [],
   "source": [
    "with open('G:\\python_github_dump\\github_python_dump000000000001', encoding='utf8') as f:\n",
    "    dump = f.read()"
   ]
  },
  {
   "cell_type": "code",
   "execution_count": 3,
   "metadata": {},
   "outputs": [],
   "source": [
    "dump = dump.replace('\",false,1', '')\n",
    "splitted = re.split(r'[a-z0-9]{40},\\d+,\"', dump)\n",
    "splitted = splitted[1:]"
   ]
  },
  {
   "cell_type": "code",
   "execution_count": 4,
   "metadata": {},
   "outputs": [],
   "source": [
    "def parse_imports(imports):\n",
    "    '''Returns list of tuples containing import name and the name to search for'''\n",
    "    imports_parsed = set()\n",
    "    for import_line in imports:\n",
    "        import_v_from = re.split(r' +', import_line)[0]\n",
    "        if import_v_from == 'import':\n",
    "            libs = re.split(r' ?, ?', import_line.replace('import', '').strip())\n",
    "            for l in libs:\n",
    "                if ' as ' in l:\n",
    "                    lib_name = re.split(r' +as +', l)[0].strip()\n",
    "                    lib_alias = re.split(r' +as +', l)[1].strip()\n",
    "                    imports_parsed.add((lib_name, lib_alias))\n",
    "                else:\n",
    "                    imports_parsed.add((l.strip(), l.strip()))\n",
    "        elif import_v_from == 'from':\n",
    "            lib_name = import_line.split('import')[0].replace('from ', '').strip()\n",
    "            methods_objects = re.split(r' ?, ?', import_line.split('import')[-1].strip())\n",
    "            for mo in methods_objects:\n",
    "                if '*' == mo:\n",
    "                    continue\n",
    "                if ' as ' in mo:\n",
    "                    mo_name = re.split(r' +as +', mo)[0].strip()\n",
    "                    mo_alias = re.split(r' +as +', mo)[1].strip()\n",
    "                    imports_parsed.add((f'{lib_name}.{mo_name}', mo_alias))\n",
    "                else:\n",
    "                    imports_parsed.add((f'{lib_name}.{mo.strip()}', mo.strip()))\n",
    "    return imports_parsed"
   ]
  },
  {
   "cell_type": "code",
   "execution_count": 8,
   "metadata": {},
   "outputs": [],
   "source": [
    "def find_objects(input_string, imports_list):\n",
    "    '''\n",
    "    Finds variable names for created objects\n",
    "    '''\n",
    "    objects = set()\n",
    "    for imp in imports_list:\n",
    "        for f in re.findall(r'\\w+ *= *{}'.format(imp[1]), input_string):  # TODO: pozbyc sie argumentow\n",
    "            objects.add((f'{imp[0]}___derivative', f.split('=')[0].strip()))\n",
    "    return objects"
   ]
  },
  {
   "cell_type": "code",
   "execution_count": 125,
   "metadata": {},
   "outputs": [],
   "source": [
    "def remove_parentheses_brackets(input_string):\n",
    "    '''\n",
    "    Removes parentheses and/or brackets with what is inside them\n",
    "    '''  # TODO: test roznych zagniezdzonych\n",
    "    parens = []\n",
    "    opening_pb = []\n",
    "    for index, ch in enumerate(input_string):\n",
    "        if ch == '(' or ch == '[':\n",
    "            opening_pb.append(index)\n",
    "        elif (ch == ')' or ch == ']') and opening_pb:\n",
    "            op = opening_pb.pop()\n",
    "            if len(opening_pb) == 0:\n",
    "                parens.append(input_string[op:index+1])\n",
    "    for p in parens:\n",
    "        input_string = input_string.replace(p, '')\n",
    "    input_string = re.sub(r'[\\(\\)\\[\\]]', '', input_string).strip()\n",
    "    return input_string\n",
    "    "
   ]
  },
  {
   "cell_type": "code",
   "execution_count": 7,
   "metadata": {},
   "outputs": [],
   "source": [
    "def remove_comments_docstrings(input_string):\n",
    "    input_string = re.sub(r'#.*\\n', '\\n', input_string)\n",
    "    start = None\n",
    "    for match in re.finditer(r'\"\"\"+|\\'\\'\\'+', input_string):\n",
    "        if start is None:\n",
    "            start = match.span()[0]\n",
    "        else:\n",
    "            to_replace = input_string[start: match.span()[1]]\n",
    "            input_string = input_string.replace(to_replace, '')\n",
    "            start = None\n",
    "    return input_string"
   ]
  },
  {
   "cell_type": "code",
   "execution_count": 6,
   "metadata": {},
   "outputs": [],
   "source": [
    "def balanced_parentheses(input_string):\n",
    "    return input_string.count('(') == input_string.count(')')"
   ]
  },
  {
   "cell_type": "code",
   "execution_count": 9,
   "metadata": {},
   "outputs": [],
   "source": [
    "def extract_inheritance(input_string, imports_list):\n",
    "    occurences_dict = {}\n",
    "    for imp in imports_list:\n",
    "        for occ in re.findall(r'class .*\\({}\\):'.format(imp[1]), input_string):\n",
    "            if imp[0] not in occurences_dict:\n",
    "                occurences_dict[imp[0]] = 1\n",
    "            else:\n",
    "                occurences_dict[imp[0]] += 1\n",
    "    return occurences_dict"
   ]
  },
  {
   "cell_type": "code",
   "execution_count": 121,
   "metadata": {},
   "outputs": [],
   "source": [
    "def extract_function_attribute(input_string, func_name):\n",
    "    occurences_dict = {}\n",
    "    for match in re.finditer(r'(\\W|^){}(\\.|\\(|\\[|\\'|\\\"| )'.format(func_name[1]), input_string):\n",
    "        start = match.span()[0] + re.search(func_name[1], match.group()).span()[0]\n",
    "        end = match.span()[1]\n",
    "        if '=' in input_string[end:end+2]:\n",
    "            continue\n",
    "        for i in range(len(input_string[:start]), len(input_string)):\n",
    "            if (input_string[i] not in list(string.ascii_letters) + ['.', '(', ')', '_'] and balanced_parentheses(input_string[start:i+1])) or input_string[i] == '\\n':\n",
    "                print('LINE:   ', input_string[start:start+100].replace('\\n', ' '))\n",
    "                dict_key = f\"{func_name[0]}{remove_parentheses_brackets(input_string[start:i].strip(':'))[len(func_name[1]):]}\"\n",
    "                if dict_key not in occurences_dict:\n",
    "                    occurences_dict[dict_key] = 1\n",
    "                    print('ADDED:  ', dict_key)\n",
    "                else:\n",
    "                    occurences_dict[dict_key] += 1\n",
    "                    print('ADDED:  ', dict_key)\n",
    "                break\n",
    "    return occurences_dict"
   ]
  },
  {
   "cell_type": "code",
   "execution_count": 143,
   "metadata": {},
   "outputs": [
    {
     "name": "stdout",
     "output_type": "stream",
     "text": [
      "LINE:    writer.writerow(['rivid', 'lat', 'lon', 'z'])         for feature in ogr_drainage_line_shapefile_lyr\n",
      "ADDED:   csv.writer___derivative.writerow\n",
      "LINE:    writer.writerow([                 feature.GetField(river_id),                 centroid_pt[1],       \n",
      "ADDED:   csv.writer___derivative.writerow\n",
      "LINE:    osr_geographic_proj.ImportFromEPSG(4326)     proj_transform = None     if ogr_drainage_line_shapefil\n",
      "ADDED:   osgeo.osr___derivative.ImportFromEPSG\n",
      "LINE:    osr.SpatialReference()     osr_geographic_proj.ImportFromEPSG(4326)     proj_transform = None     if\n",
      "ADDED:   osgeo.osr.SpatialReference\n",
      "LINE:    osr.CoordinateTransformation(             ogr_drainage_line_shapefile_lyr_proj, osr_geographic_proj)\n",
      "ADDED:   osgeo.osr.CoordinateTransformation\n",
      "LINE:    csv_writer(outfile)         writer.writerow(['rivid', 'lat', 'lon', 'z'])         for feature in ogr\n",
      "ADDED:   csv.writer\n",
      "LINE:    open_csv(out_csv_file, 'w') as outfile:         writer = csv_writer(outfile)         writer.writerow\n",
      "ADDED:   ..helper_functions.open_csv\n",
      "LINE:    gdal.UseExceptions()                        river_id,                     out_csv_file,             \n",
      "ADDED:   osgeo.gdal.UseExceptions\n",
      "{'csv.writer___derivative.writerow': 2, 'osgeo.osr___derivative.ImportFromEPSG': 1, 'osgeo.osr.SpatialReference': 1, 'osgeo.osr.CoordinateTransformation': 1, 'csv.writer': 1, '..helper_functions.open_csv': 1, 'osgeo.gdal.UseExceptions': 1}\n"
     ]
    }
   ],
   "source": [
    "snippet = splitted[30]\n",
    "snippet = remove_comments_docstrings(snippet)\n",
    "snippet = re.sub(r'def .+\\n', ' ', snippet)\n",
    "snippet = snippet.replace('\\\\\\n', ' ')\n",
    "import_lines = []\n",
    "for import_line in re.findall(r' *import .+\\n| *from .+ import .+\\n', snippet):\n",
    "    import_lines.append(import_line.strip())\n",
    "    snippet = snippet.replace(import_line, ' ')\n",
    "\n",
    "occurences_dict = {}  \n",
    "imports = parse_imports(import_lines)\n",
    "imports.update(find_objects(snippet, imports))\n",
    "for imp in imports:\n",
    "    occurences_dict = dict(Counter(occurences_dict) + Counter(extract_function_attribute(snippet, imp)))\n",
    "print(occurences_dict)"
   ]
  },
  {
   "cell_type": "code",
   "execution_count": 144,
   "metadata": {},
   "outputs": [
    {
     "data": {
      "text/plain": [
       "{('..helper_functions.open_csv', 'open_csv'),\n",
       " ('..open_shapefile', 'open_shapefile'),\n",
       " ('csv.writer', 'csv_writer'),\n",
       " ('csv.writer___derivative', 'writer'),\n",
       " ('osgeo.gdal', 'gdal'),\n",
       " ('osgeo.osr', 'osr'),\n",
       " ('osgeo.osr___derivative', 'osr_geographic_proj'),\n",
       " ('osgeo.osr___derivative', 'proj_transform')}"
      ]
     },
     "execution_count": 144,
     "metadata": {},
     "output_type": "execute_result"
    }
   ],
   "source": [
    "imports"
   ]
  }
 ],
 "metadata": {
  "interpreter": {
   "hash": "96a5d84734c2fcc0f1c4e29111ed2080412c48bc33f767562c76143427b08200"
  },
  "kernelspec": {
   "display_name": "Python 3.9.6 64-bit",
   "language": "python",
   "name": "python3"
  },
  "language_info": {
   "codemirror_mode": {
    "name": "ipython",
    "version": 3
   },
   "file_extension": ".py",
   "mimetype": "text/x-python",
   "name": "python",
   "nbconvert_exporter": "python",
   "pygments_lexer": "ipython3",
   "version": "3.10.3"
  },
  "orig_nbformat": 4
 },
 "nbformat": 4,
 "nbformat_minor": 2
}
